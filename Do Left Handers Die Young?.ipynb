{
 "cells": [
  {
   "cell_type": "markdown",
   "id": "744677db",
   "metadata": {},
   "source": [
    "## Do Left Handers Die Younger than Right Handers?"
   ]
  },
  {
   "cell_type": "markdown",
   "id": "178db9e0",
   "metadata": {},
   "source": [
    "I look to answer this question using probability approach. I specifically use the Bayer's Theorem to solve this question."
   ]
  },
  {
   "cell_type": "markdown",
   "id": "e6ca4710",
   "metadata": {},
   "source": [
    "We require 2 datasets that are of importance to solve this question:\n",
    "    \n",
    "1) Percentage of left and right handed people in the population\n",
    "\n",
    "2) Data related to deaths distributed by the ages\n",
    "\n",
    "The dataset used is from back in 1990s, when a survey conducted for the rate of left-handedness was published in this <a href=\"https://pubmed.ncbi.nlm.nih.gov/1528408/\">paper</a>. \n",
    "\n",
    "The death distribution data comes from the CDC site at - https://www.cdc.gov/nchs/data/statab/vs00199_table310.pdf.\n",
    "\n",
    "<b>Both these datasets are available at https://gist.github.com/mbonsma/</b>"
   ]
  },
  {
   "cell_type": "markdown",
   "id": "dcbde98d",
   "metadata": {},
   "source": [
    "### 1. Import the left handedness data and analyze/visualize it"
   ]
  },
  {
   "cell_type": "code",
   "execution_count": 1,
   "id": "16c425c9",
   "metadata": {},
   "outputs": [],
   "source": [
    "import pandas as pd\n",
    "import numpy as np\n",
    "import matplotlib.pyplot as plt"
   ]
  },
  {
   "cell_type": "code",
   "execution_count": 2,
   "id": "be47d969",
   "metadata": {},
   "outputs": [],
   "source": [
    "# import data\n",
    "lefthandedbyage = pd.read_csv(\"datasets/lh_data.csv\")"
   ]
  },
  {
   "cell_type": "code",
   "execution_count": 3,
   "id": "424305f0",
   "metadata": {
    "scrolled": true
   },
   "outputs": [
    {
     "data": {
      "text/html": [
       "<div>\n",
       "<style scoped>\n",
       "    .dataframe tbody tr th:only-of-type {\n",
       "        vertical-align: middle;\n",
       "    }\n",
       "\n",
       "    .dataframe tbody tr th {\n",
       "        vertical-align: top;\n",
       "    }\n",
       "\n",
       "    .dataframe thead th {\n",
       "        text-align: right;\n",
       "    }\n",
       "</style>\n",
       "<table border=\"1\" class=\"dataframe\">\n",
       "  <thead>\n",
       "    <tr style=\"text-align: right;\">\n",
       "      <th></th>\n",
       "      <th>Age</th>\n",
       "      <th>Male</th>\n",
       "      <th>Female</th>\n",
       "    </tr>\n",
       "  </thead>\n",
       "  <tbody>\n",
       "    <tr>\n",
       "      <th>0</th>\n",
       "      <td>10</td>\n",
       "      <td>12.717558</td>\n",
       "      <td>12.198041</td>\n",
       "    </tr>\n",
       "    <tr>\n",
       "      <th>1</th>\n",
       "      <td>11</td>\n",
       "      <td>15.318830</td>\n",
       "      <td>11.144804</td>\n",
       "    </tr>\n",
       "    <tr>\n",
       "      <th>2</th>\n",
       "      <td>12</td>\n",
       "      <td>14.808281</td>\n",
       "      <td>11.549240</td>\n",
       "    </tr>\n",
       "    <tr>\n",
       "      <th>3</th>\n",
       "      <td>13</td>\n",
       "      <td>13.793744</td>\n",
       "      <td>11.276442</td>\n",
       "    </tr>\n",
       "    <tr>\n",
       "      <th>4</th>\n",
       "      <td>14</td>\n",
       "      <td>15.156304</td>\n",
       "      <td>11.572906</td>\n",
       "    </tr>\n",
       "  </tbody>\n",
       "</table>\n",
       "</div>"
      ],
      "text/plain": [
       "   Age       Male     Female\n",
       "0   10  12.717558  12.198041\n",
       "1   11  15.318830  11.144804\n",
       "2   12  14.808281  11.549240\n",
       "3   13  13.793744  11.276442\n",
       "4   14  15.156304  11.572906"
      ]
     },
     "execution_count": 3,
     "metadata": {},
     "output_type": "execute_result"
    }
   ],
   "source": [
    "lefthandedbyage.head()"
   ]
  },
  {
   "cell_type": "code",
   "execution_count": 4,
   "id": "60c3dd8f",
   "metadata": {
    "scrolled": true
   },
   "outputs": [
    {
     "name": "stdout",
     "output_type": "stream",
     "text": [
      "<class 'pandas.core.frame.DataFrame'>\n",
      "RangeIndex: 77 entries, 0 to 76\n",
      "Data columns (total 3 columns):\n",
      " #   Column  Non-Null Count  Dtype  \n",
      "---  ------  --------------  -----  \n",
      " 0   Age     77 non-null     int64  \n",
      " 1   Male    77 non-null     float64\n",
      " 2   Female  77 non-null     float64\n",
      "dtypes: float64(2), int64(1)\n",
      "memory usage: 1.9 KB\n"
     ]
    }
   ],
   "source": [
    "lefthandedbyage.info()"
   ]
  },
  {
   "cell_type": "code",
   "execution_count": 5,
   "id": "e8a6f890",
   "metadata": {},
   "outputs": [
    {
     "data": {
      "text/html": [
       "<div>\n",
       "<style scoped>\n",
       "    .dataframe tbody tr th:only-of-type {\n",
       "        vertical-align: middle;\n",
       "    }\n",
       "\n",
       "    .dataframe tbody tr th {\n",
       "        vertical-align: top;\n",
       "    }\n",
       "\n",
       "    .dataframe thead th {\n",
       "        text-align: right;\n",
       "    }\n",
       "</style>\n",
       "<table border=\"1\" class=\"dataframe\">\n",
       "  <thead>\n",
       "    <tr style=\"text-align: right;\">\n",
       "      <th></th>\n",
       "      <th>Age</th>\n",
       "      <th>Male</th>\n",
       "      <th>Female</th>\n",
       "    </tr>\n",
       "  </thead>\n",
       "  <tbody>\n",
       "    <tr>\n",
       "      <th>count</th>\n",
       "      <td>77.000000</td>\n",
       "      <td>77.000000</td>\n",
       "      <td>77.000000</td>\n",
       "    </tr>\n",
       "    <tr>\n",
       "      <th>mean</th>\n",
       "      <td>48.000000</td>\n",
       "      <td>11.549122</td>\n",
       "      <td>9.120522</td>\n",
       "    </tr>\n",
       "    <tr>\n",
       "      <th>std</th>\n",
       "      <td>22.371857</td>\n",
       "      <td>3.138912</td>\n",
       "      <td>2.505480</td>\n",
       "    </tr>\n",
       "    <tr>\n",
       "      <th>min</th>\n",
       "      <td>10.000000</td>\n",
       "      <td>4.885999</td>\n",
       "      <td>4.680948</td>\n",
       "    </tr>\n",
       "    <tr>\n",
       "      <th>25%</th>\n",
       "      <td>29.000000</td>\n",
       "      <td>8.562868</td>\n",
       "      <td>6.604398</td>\n",
       "    </tr>\n",
       "    <tr>\n",
       "      <th>50%</th>\n",
       "      <td>48.000000</td>\n",
       "      <td>12.717558</td>\n",
       "      <td>9.892073</td>\n",
       "    </tr>\n",
       "    <tr>\n",
       "      <th>75%</th>\n",
       "      <td>67.000000</td>\n",
       "      <td>14.209302</td>\n",
       "      <td>11.368353</td>\n",
       "    </tr>\n",
       "    <tr>\n",
       "      <th>max</th>\n",
       "      <td>86.000000</td>\n",
       "      <td>15.546784</td>\n",
       "      <td>12.872166</td>\n",
       "    </tr>\n",
       "  </tbody>\n",
       "</table>\n",
       "</div>"
      ],
      "text/plain": [
       "             Age       Male     Female\n",
       "count  77.000000  77.000000  77.000000\n",
       "mean   48.000000  11.549122   9.120522\n",
       "std    22.371857   3.138912   2.505480\n",
       "min    10.000000   4.885999   4.680948\n",
       "25%    29.000000   8.562868   6.604398\n",
       "50%    48.000000  12.717558   9.892073\n",
       "75%    67.000000  14.209302  11.368353\n",
       "max    86.000000  15.546784  12.872166"
      ]
     },
     "execution_count": 5,
     "metadata": {},
     "output_type": "execute_result"
    }
   ],
   "source": [
    "lefthandedbyage.describe()"
   ]
  },
  {
   "cell_type": "code",
   "execution_count": 6,
   "id": "acd5a673",
   "metadata": {},
   "outputs": [
    {
     "data": {
      "text/plain": [
       "Text(0, 0.5, 'Percentage of people who are left-handed')"
      ]
     },
     "execution_count": 6,
     "metadata": {},
     "output_type": "execute_result"
    },
    {
     "data": {
      "image/png": "[encoded data removed]",
      "text/plain": [
       "<Figure size 432x288 with 1 Axes>"
      ]
     },
     "metadata": {
      "needs_background": "light"
     },
     "output_type": "display_data"
    }
   ],
   "source": [
    "# plot the dataset\n",
    "fig, ax = plt.subplots()\n",
    "ax.plot('Age', 'Female', data = lefthandedbyage, marker = '.')\n",
    "ax.plot('Age', 'Male', data = lefthandedbyage, marker = 'x')\n",
    "ax.legend()\n",
    "ax.set_xlabel(\"Age\")\n",
    "ax.set_ylabel(\"Percentage of people who are left-handed\")"
   ]
  },
  {
   "cell_type": "code",
   "execution_count": 7,
   "id": "65b655b7",
   "metadata": {},
   "outputs": [],
   "source": [
    "# create a new column for the average of male and female\n",
    "lefthandedbyage['Average'] = lefthandedbyage[['Female', 'Male']].mean(axis = 1)"
   ]
  },
  {
   "cell_type": "code",
   "execution_count": 8,
   "id": "315f17f9",
   "metadata": {},
   "outputs": [
    {
     "data": {
      "text/html": [
       "<div>\n",
       "<style scoped>\n",
       "    .dataframe tbody tr th:only-of-type {\n",
       "        vertical-align: middle;\n",
       "    }\n",
       "\n",
       "    .dataframe tbody tr th {\n",
       "        vertical-align: top;\n",
       "    }\n",
       "\n",
       "    .dataframe thead th {\n",
       "        text-align: right;\n",
       "    }\n",
       "</style>\n",
       "<table border=\"1\" class=\"dataframe\">\n",
       "  <thead>\n",
       "    <tr style=\"text-align: right;\">\n",
       "      <th></th>\n",
       "      <th>Age</th>\n",
       "      <th>Male</th>\n",
       "      <th>Female</th>\n",
       "      <th>Average</th>\n",
       "    </tr>\n",
       "  </thead>\n",
       "  <tbody>\n",
       "    <tr>\n",
       "      <th>0</th>\n",
       "      <td>10</td>\n",
       "      <td>12.717558</td>\n",
       "      <td>12.198041</td>\n",
       "      <td>12.457800</td>\n",
       "    </tr>\n",
       "    <tr>\n",
       "      <th>1</th>\n",
       "      <td>11</td>\n",
       "      <td>15.318830</td>\n",
       "      <td>11.144804</td>\n",
       "      <td>13.231817</td>\n",
       "    </tr>\n",
       "    <tr>\n",
       "      <th>2</th>\n",
       "      <td>12</td>\n",
       "      <td>14.808281</td>\n",
       "      <td>11.549240</td>\n",
       "      <td>13.178760</td>\n",
       "    </tr>\n",
       "    <tr>\n",
       "      <th>3</th>\n",
       "      <td>13</td>\n",
       "      <td>13.793744</td>\n",
       "      <td>11.276442</td>\n",
       "      <td>12.535093</td>\n",
       "    </tr>\n",
       "    <tr>\n",
       "      <th>4</th>\n",
       "      <td>14</td>\n",
       "      <td>15.156304</td>\n",
       "      <td>11.572906</td>\n",
       "      <td>13.364605</td>\n",
       "    </tr>\n",
       "  </tbody>\n",
       "</table>\n",
       "</div>"
      ],
      "text/plain": [
       "   Age       Male     Female    Average\n",
       "0   10  12.717558  12.198041  12.457800\n",
       "1   11  15.318830  11.144804  13.231817\n",
       "2   12  14.808281  11.549240  13.178760\n",
       "3   13  13.793744  11.276442  12.535093\n",
       "4   14  15.156304  11.572906  13.364605"
      ]
     },
     "execution_count": 8,
     "metadata": {},
     "output_type": "execute_result"
    }
   ],
   "source": [
    "lefthandedbyage.head()"
   ]
  },
  {
   "cell_type": "code",
   "execution_count": 9,
   "id": "e72421f7",
   "metadata": {},
   "outputs": [
    {
     "data": {
      "text/plain": [
       "Text(0, 0.5, 'Percentage of people who are left-handed')"
      ]
     },
     "execution_count": 9,
     "metadata": {},
     "output_type": "execute_result"
    },
    {
     "data": {
      "image/png": "[encoded data removed]",
      "text/plain": [
       "<Figure size 432x288 with 1 Axes>"
      ]
     },
     "metadata": {
      "needs_background": "light"
     },
     "output_type": "display_data"
    }
   ],
   "source": [
    "fig, ax = plt.subplots()\n",
    "ax.plot('Age', 'Average', data = lefthandedbyage)\n",
    "ax.set_xlabel(\"Age\")\n",
    "ax.set_ylabel(\"Percentage of people who are left-handed\")"
   ]
  },
  {
   "cell_type": "markdown",
   "id": "b56a7aaa",
   "metadata": {},
   "source": [
    "### 2. Import the death distribution data and analyze/visualize it"
   ]
  },
  {
   "cell_type": "code",
   "execution_count": 10,
   "id": "21c99ddc",
   "metadata": {},
   "outputs": [],
   "source": [
    "deathbyage = pd.read_csv(\"datasets/cdc_vs00199_table310.tsv\", sep = '\\t', skiprows = [1])"
   ]
  },
  {
   "cell_type": "code",
   "execution_count": 11,
   "id": "53b882f1",
   "metadata": {},
   "outputs": [
    {
     "data": {
      "text/html": [
       "<div>\n",
       "<style scoped>\n",
       "    .dataframe tbody tr th:only-of-type {\n",
       "        vertical-align: middle;\n",
       "    }\n",
       "\n",
       "    .dataframe tbody tr th {\n",
       "        vertical-align: top;\n",
       "    }\n",
       "\n",
       "    .dataframe thead th {\n",
       "        text-align: right;\n",
       "    }\n",
       "</style>\n",
       "<table border=\"1\" class=\"dataframe\">\n",
       "  <thead>\n",
       "    <tr style=\"text-align: right;\">\n",
       "      <th></th>\n",
       "      <th>Age</th>\n",
       "      <th>Both Sexes</th>\n",
       "      <th>Male</th>\n",
       "      <th>Female</th>\n",
       "    </tr>\n",
       "  </thead>\n",
       "  <tbody>\n",
       "    <tr>\n",
       "      <th>0</th>\n",
       "      <td>0</td>\n",
       "      <td>27937.0</td>\n",
       "      <td>15646.0</td>\n",
       "      <td>12291.0</td>\n",
       "    </tr>\n",
       "    <tr>\n",
       "      <th>1</th>\n",
       "      <td>1</td>\n",
       "      <td>1989.0</td>\n",
       "      <td>1103.0</td>\n",
       "      <td>886.0</td>\n",
       "    </tr>\n",
       "    <tr>\n",
       "      <th>2</th>\n",
       "      <td>2</td>\n",
       "      <td>1376.0</td>\n",
       "      <td>797.0</td>\n",
       "      <td>579.0</td>\n",
       "    </tr>\n",
       "    <tr>\n",
       "      <th>3</th>\n",
       "      <td>3</td>\n",
       "      <td>1046.0</td>\n",
       "      <td>601.0</td>\n",
       "      <td>445.0</td>\n",
       "    </tr>\n",
       "    <tr>\n",
       "      <th>4</th>\n",
       "      <td>4</td>\n",
       "      <td>838.0</td>\n",
       "      <td>474.0</td>\n",
       "      <td>364.0</td>\n",
       "    </tr>\n",
       "  </tbody>\n",
       "</table>\n",
       "</div>"
      ],
      "text/plain": [
       "   Age  Both Sexes     Male   Female\n",
       "0    0     27937.0  15646.0  12291.0\n",
       "1    1      1989.0   1103.0    886.0\n",
       "2    2      1376.0    797.0    579.0\n",
       "3    3      1046.0    601.0    445.0\n",
       "4    4       838.0    474.0    364.0"
      ]
     },
     "execution_count": 11,
     "metadata": {},
     "output_type": "execute_result"
    }
   ],
   "source": [
    "deathbyage.head()"
   ]
  },
  {
   "cell_type": "code",
   "execution_count": 12,
   "id": "83930405",
   "metadata": {
    "scrolled": true
   },
   "outputs": [
    {
     "name": "stdout",
     "output_type": "stream",
     "text": [
      "<class 'pandas.core.frame.DataFrame'>\n",
      "RangeIndex: 125 entries, 0 to 124\n",
      "Data columns (total 4 columns):\n",
      " #   Column      Non-Null Count  Dtype  \n",
      "---  ------      --------------  -----  \n",
      " 0   Age         125 non-null    int64  \n",
      " 1   Both Sexes  120 non-null    float64\n",
      " 2   Male        115 non-null    float64\n",
      " 3   Female      120 non-null    float64\n",
      "dtypes: float64(3), int64(1)\n",
      "memory usage: 4.0 KB\n"
     ]
    }
   ],
   "source": [
    "deathbyage.info()"
   ]
  },
  {
   "cell_type": "code",
   "execution_count": 13,
   "id": "6d38fd07",
   "metadata": {},
   "outputs": [
    {
     "data": {
      "text/html": [
       "<div>\n",
       "<style scoped>\n",
       "    .dataframe tbody tr th:only-of-type {\n",
       "        vertical-align: middle;\n",
       "    }\n",
       "\n",
       "    .dataframe tbody tr th {\n",
       "        vertical-align: top;\n",
       "    }\n",
       "\n",
       "    .dataframe thead th {\n",
       "        text-align: right;\n",
       "    }\n",
       "</style>\n",
       "<table border=\"1\" class=\"dataframe\">\n",
       "  <thead>\n",
       "    <tr style=\"text-align: right;\">\n",
       "      <th></th>\n",
       "      <th>Age</th>\n",
       "      <th>Both Sexes</th>\n",
       "      <th>Male</th>\n",
       "      <th>Female</th>\n",
       "    </tr>\n",
       "  </thead>\n",
       "  <tbody>\n",
       "    <tr>\n",
       "      <th>count</th>\n",
       "      <td>125.000000</td>\n",
       "      <td>120.000000</td>\n",
       "      <td>115.000000</td>\n",
       "      <td>120.000000</td>\n",
       "    </tr>\n",
       "    <tr>\n",
       "      <th>mean</th>\n",
       "      <td>62.000000</td>\n",
       "      <td>19925.358333</td>\n",
       "      <td>10218.982609</td>\n",
       "      <td>10132.166667</td>\n",
       "    </tr>\n",
       "    <tr>\n",
       "      <th>std</th>\n",
       "      <td>36.228442</td>\n",
       "      <td>23523.773527</td>\n",
       "      <td>11183.006921</td>\n",
       "      <td>13081.181052</td>\n",
       "    </tr>\n",
       "    <tr>\n",
       "      <th>min</th>\n",
       "      <td>0.000000</td>\n",
       "      <td>1.000000</td>\n",
       "      <td>1.000000</td>\n",
       "      <td>1.000000</td>\n",
       "    </tr>\n",
       "    <tr>\n",
       "      <th>25%</th>\n",
       "      <td>31.000000</td>\n",
       "      <td>1733.250000</td>\n",
       "      <td>1067.000000</td>\n",
       "      <td>816.250000</td>\n",
       "    </tr>\n",
       "    <tr>\n",
       "      <th>50%</th>\n",
       "      <td>62.000000</td>\n",
       "      <td>8933.500000</td>\n",
       "      <td>5401.000000</td>\n",
       "      <td>3708.500000</td>\n",
       "    </tr>\n",
       "    <tr>\n",
       "      <th>75%</th>\n",
       "      <td>93.000000</td>\n",
       "      <td>31112.500000</td>\n",
       "      <td>15576.000000</td>\n",
       "      <td>14745.500000</td>\n",
       "    </tr>\n",
       "    <tr>\n",
       "      <th>max</th>\n",
       "      <td>124.000000</td>\n",
       "      <td>73039.000000</td>\n",
       "      <td>36020.000000</td>\n",
       "      <td>42335.000000</td>\n",
       "    </tr>\n",
       "  </tbody>\n",
       "</table>\n",
       "</div>"
      ],
      "text/plain": [
       "              Age    Both Sexes          Male        Female\n",
       "count  125.000000    120.000000    115.000000    120.000000\n",
       "mean    62.000000  19925.358333  10218.982609  10132.166667\n",
       "std     36.228442  23523.773527  11183.006921  13081.181052\n",
       "min      0.000000      1.000000      1.000000      1.000000\n",
       "25%     31.000000   1733.250000   1067.000000    816.250000\n",
       "50%     62.000000   8933.500000   5401.000000   3708.500000\n",
       "75%     93.000000  31112.500000  15576.000000  14745.500000\n",
       "max    124.000000  73039.000000  36020.000000  42335.000000"
      ]
     },
     "execution_count": 13,
     "metadata": {},
     "output_type": "execute_result"
    }
   ],
   "source": [
    "deathbyage.describe()"
   ]
  },
  {
   "cell_type": "code",
   "execution_count": 14,
   "id": "0a2058b4",
   "metadata": {},
   "outputs": [
    {
     "data": {
      "text/plain": [
       "Text(0, 0.5, 'Percentage of people who are left-handed')"
      ]
     },
     "execution_count": 14,
     "metadata": {},
     "output_type": "execute_result"
    },
    {
     "data": {
      "image/png": "[encoded data removed]",
      "text/plain": [
       "<Figure size 432x288 with 1 Axes>"
      ]
     },
     "metadata": {
      "needs_background": "light"
     },
     "output_type": "display_data"
    }
   ],
   "source": [
    "fig, ax = plt.subplots()\n",
    "ax.plot('Age', 'Female', data = deathbyage, marker = '.')\n",
    "ax.plot('Age', 'Male', data = deathbyage, marker = 'x')\n",
    "ax.legend() # add a legend\n",
    "ax.set_xlabel(\"Age\")\n",
    "ax.set_ylabel(\"Percentage of people who are left-handed\")"
   ]
  },
  {
   "cell_type": "markdown",
   "id": "794cd7ba",
   "metadata": {},
   "source": [
    "Drop the first row since the total is not needed"
   ]
  },
  {
   "cell_type": "code",
   "execution_count": 15,
   "id": "11bde349",
   "metadata": {},
   "outputs": [],
   "source": [
    "deathbyage = deathbyage.drop(index= deathbyage.index[0], axis = 0)"
   ]
  },
  {
   "cell_type": "code",
   "execution_count": 16,
   "id": "41324497",
   "metadata": {},
   "outputs": [],
   "source": [
    "deathbyage.rename(columns={\"Both Sexes\" : \"Deaths\"}, inplace = True)"
   ]
  },
  {
   "cell_type": "code",
   "execution_count": 17,
   "id": "1bb33682",
   "metadata": {},
   "outputs": [
    {
     "data": {
      "text/html": [
       "<div>\n",
       "<style scoped>\n",
       "    .dataframe tbody tr th:only-of-type {\n",
       "        vertical-align: middle;\n",
       "    }\n",
       "\n",
       "    .dataframe tbody tr th {\n",
       "        vertical-align: top;\n",
       "    }\n",
       "\n",
       "    .dataframe thead th {\n",
       "        text-align: right;\n",
       "    }\n",
       "</style>\n",
       "<table border=\"1\" class=\"dataframe\">\n",
       "  <thead>\n",
       "    <tr style=\"text-align: right;\">\n",
       "      <th></th>\n",
       "      <th>Age</th>\n",
       "      <th>Deaths</th>\n",
       "      <th>Male</th>\n",
       "      <th>Female</th>\n",
       "    </tr>\n",
       "  </thead>\n",
       "  <tbody>\n",
       "    <tr>\n",
       "      <th>1</th>\n",
       "      <td>1</td>\n",
       "      <td>1989.0</td>\n",
       "      <td>1103.0</td>\n",
       "      <td>886.0</td>\n",
       "    </tr>\n",
       "    <tr>\n",
       "      <th>2</th>\n",
       "      <td>2</td>\n",
       "      <td>1376.0</td>\n",
       "      <td>797.0</td>\n",
       "      <td>579.0</td>\n",
       "    </tr>\n",
       "    <tr>\n",
       "      <th>3</th>\n",
       "      <td>3</td>\n",
       "      <td>1046.0</td>\n",
       "      <td>601.0</td>\n",
       "      <td>445.0</td>\n",
       "    </tr>\n",
       "    <tr>\n",
       "      <th>4</th>\n",
       "      <td>4</td>\n",
       "      <td>838.0</td>\n",
       "      <td>474.0</td>\n",
       "      <td>364.0</td>\n",
       "    </tr>\n",
       "    <tr>\n",
       "      <th>5</th>\n",
       "      <td>5</td>\n",
       "      <td>763.0</td>\n",
       "      <td>446.0</td>\n",
       "      <td>317.0</td>\n",
       "    </tr>\n",
       "    <tr>\n",
       "      <th>...</th>\n",
       "      <td>...</td>\n",
       "      <td>...</td>\n",
       "      <td>...</td>\n",
       "      <td>...</td>\n",
       "    </tr>\n",
       "    <tr>\n",
       "      <th>120</th>\n",
       "      <td>120</td>\n",
       "      <td>1.0</td>\n",
       "      <td>NaN</td>\n",
       "      <td>1.0</td>\n",
       "    </tr>\n",
       "    <tr>\n",
       "      <th>121</th>\n",
       "      <td>121</td>\n",
       "      <td>NaN</td>\n",
       "      <td>NaN</td>\n",
       "      <td>NaN</td>\n",
       "    </tr>\n",
       "    <tr>\n",
       "      <th>122</th>\n",
       "      <td>122</td>\n",
       "      <td>NaN</td>\n",
       "      <td>NaN</td>\n",
       "      <td>NaN</td>\n",
       "    </tr>\n",
       "    <tr>\n",
       "      <th>123</th>\n",
       "      <td>123</td>\n",
       "      <td>NaN</td>\n",
       "      <td>NaN</td>\n",
       "      <td>NaN</td>\n",
       "    </tr>\n",
       "    <tr>\n",
       "      <th>124</th>\n",
       "      <td>124</td>\n",
       "      <td>NaN</td>\n",
       "      <td>NaN</td>\n",
       "      <td>NaN</td>\n",
       "    </tr>\n",
       "  </tbody>\n",
       "</table>\n",
       "<p>124 rows × 4 columns</p>\n",
       "</div>"
      ],
      "text/plain": [
       "     Age  Deaths    Male  Female\n",
       "1      1  1989.0  1103.0   886.0\n",
       "2      2  1376.0   797.0   579.0\n",
       "3      3  1046.0   601.0   445.0\n",
       "4      4   838.0   474.0   364.0\n",
       "5      5   763.0   446.0   317.0\n",
       "..   ...     ...     ...     ...\n",
       "120  120     1.0     NaN     1.0\n",
       "121  121     NaN     NaN     NaN\n",
       "122  122     NaN     NaN     NaN\n",
       "123  123     NaN     NaN     NaN\n",
       "124  124     NaN     NaN     NaN\n",
       "\n",
       "[124 rows x 4 columns]"
      ]
     },
     "execution_count": 17,
     "metadata": {},
     "output_type": "execute_result"
    }
   ],
   "source": [
    "deathbyage"
   ]
  },
  {
   "cell_type": "markdown",
   "id": "14a4724a",
   "metadata": {},
   "source": [
    "We are concered with the total number and not gender-wise, hence drop those columns"
   ]
  },
  {
   "cell_type": "code",
   "execution_count": 18,
   "id": "f814a83a",
   "metadata": {},
   "outputs": [],
   "source": [
    "deathbyage.drop(['Male', 'Female'], axis = 1, inplace = True)"
   ]
  },
  {
   "cell_type": "markdown",
   "id": "ddd0ea05",
   "metadata": {},
   "source": [
    "Drop NaN values from the Deaths columns\n",
    "\n",
    "\n",
    "\n",
    "\n",
    "\n"
   ]
  },
  {
   "cell_type": "code",
   "execution_count": 19,
   "id": "a6d92088",
   "metadata": {},
   "outputs": [],
   "source": [
    "deathbyage = deathbyage.dropna(subset = [\"Deaths\"])"
   ]
  },
  {
   "cell_type": "code",
   "execution_count": 20,
   "id": "2abc05a1",
   "metadata": {},
   "outputs": [
    {
     "data": {
      "text/html": [
       "<div>\n",
       "<style scoped>\n",
       "    .dataframe tbody tr th:only-of-type {\n",
       "        vertical-align: middle;\n",
       "    }\n",
       "\n",
       "    .dataframe tbody tr th {\n",
       "        vertical-align: top;\n",
       "    }\n",
       "\n",
       "    .dataframe thead th {\n",
       "        text-align: right;\n",
       "    }\n",
       "</style>\n",
       "<table border=\"1\" class=\"dataframe\">\n",
       "  <thead>\n",
       "    <tr style=\"text-align: right;\">\n",
       "      <th></th>\n",
       "      <th>Age</th>\n",
       "      <th>Deaths</th>\n",
       "    </tr>\n",
       "  </thead>\n",
       "  <tbody>\n",
       "    <tr>\n",
       "      <th>1</th>\n",
       "      <td>1</td>\n",
       "      <td>1989.0</td>\n",
       "    </tr>\n",
       "    <tr>\n",
       "      <th>2</th>\n",
       "      <td>2</td>\n",
       "      <td>1376.0</td>\n",
       "    </tr>\n",
       "    <tr>\n",
       "      <th>3</th>\n",
       "      <td>3</td>\n",
       "      <td>1046.0</td>\n",
       "    </tr>\n",
       "    <tr>\n",
       "      <th>4</th>\n",
       "      <td>4</td>\n",
       "      <td>838.0</td>\n",
       "    </tr>\n",
       "    <tr>\n",
       "      <th>5</th>\n",
       "      <td>5</td>\n",
       "      <td>763.0</td>\n",
       "    </tr>\n",
       "    <tr>\n",
       "      <th>...</th>\n",
       "      <td>...</td>\n",
       "      <td>...</td>\n",
       "    </tr>\n",
       "    <tr>\n",
       "      <th>115</th>\n",
       "      <td>115</td>\n",
       "      <td>3.0</td>\n",
       "    </tr>\n",
       "    <tr>\n",
       "      <th>117</th>\n",
       "      <td>117</td>\n",
       "      <td>3.0</td>\n",
       "    </tr>\n",
       "    <tr>\n",
       "      <th>118</th>\n",
       "      <td>118</td>\n",
       "      <td>1.0</td>\n",
       "    </tr>\n",
       "    <tr>\n",
       "      <th>119</th>\n",
       "      <td>119</td>\n",
       "      <td>2.0</td>\n",
       "    </tr>\n",
       "    <tr>\n",
       "      <th>120</th>\n",
       "      <td>120</td>\n",
       "      <td>1.0</td>\n",
       "    </tr>\n",
       "  </tbody>\n",
       "</table>\n",
       "<p>119 rows × 2 columns</p>\n",
       "</div>"
      ],
      "text/plain": [
       "     Age  Deaths\n",
       "1      1  1989.0\n",
       "2      2  1376.0\n",
       "3      3  1046.0\n",
       "4      4   838.0\n",
       "5      5   763.0\n",
       "..   ...     ...\n",
       "115  115     3.0\n",
       "117  117     3.0\n",
       "118  118     1.0\n",
       "119  119     2.0\n",
       "120  120     1.0\n",
       "\n",
       "[119 rows x 2 columns]"
      ]
     },
     "execution_count": 20,
     "metadata": {},
     "output_type": "execute_result"
    }
   ],
   "source": [
    "deathbyage"
   ]
  },
  {
   "cell_type": "code",
   "execution_count": 21,
   "id": "745b26e7",
   "metadata": {},
   "outputs": [
    {
     "data": {
      "text/plain": [
       "Text(0, 0.5, 'Number of people who died')"
      ]
     },
     "execution_count": 21,
     "metadata": {},
     "output_type": "execute_result"
    },
    {
     "data": {
      "image/png": "[encoded data removed]",
      "text/plain": [
       "<Figure size 432x288 with 1 Axes>"
      ]
     },
     "metadata": {
      "needs_background": "light"
     },
     "output_type": "display_data"
    }
   ],
   "source": [
    "# total number of people who died as a function of age\n",
    "fig, ax = plt.subplots()\n",
    "ax.plot('Age', 'Deaths', data = deathbyage, marker='.')\n",
    "ax.set_xlabel(\"Age\")\n",
    "ax.set_ylabel(\"Number of people who died\")"
   ]
  },
  {
   "cell_type": "markdown",
   "id": "9abe12bc",
   "metadata": {},
   "source": [
    "### 3. Bayes' Rule"
   ]
  },
  {
   "cell_type": "markdown",
   "id": "39c19912",
   "metadata": {},
   "source": [
    "We want to calculate the probability of dying at age A given that you are left-handed. Write this as P(A | LH). To compare this result, we also want the same quantity for right-handers: P(A | RH).\n",
    "\n",
    "In order the calculate this probabilty, we look at the <strong>Bayes' Theorem</strong>\n",
    "\n",
    "Bayes' theorem for the two events we care about: left-handedness (LH) and dying at age A.\n",
    "<p>$$P(A | LH) = \\frac{P(LH|A) P(A)}{P(LH)}$$</p>\n",
    "\n",
    "P(LH | A) is the probability that you are left-handed <em>given that</em> you died at age A. P(A) is the overall probability of dying at age A, and P(LH) is the overall probability of being left-handed. \n",
    "\n",
    "I will now calculate each of these three quantities."
   ]
  },
  {
   "cell_type": "markdown",
   "id": "71e18313",
   "metadata": {},
   "source": [
    "### 4. Probability of left handedness given age of death - P(LH | A)"
   ]
  },
  {
   "cell_type": "markdown",
   "id": "b9d3157f",
   "metadata": {},
   "source": [
    "The data for <code>lefthandedbyage</code> ranges from Ages 10 to 86. The <code>deathbyage</code> data ranges from ages 1 to 120. We therefore need to find the <code>lefthandedbyage</code> values for the missing ages i.e 1 to 9 and 87 to 120. I assume this rate of lefthandedness for these age groups as the mean of the last 5 and the first 5 age wise entries in the <code>lefthandedbyage</code> dataset.\n",
    "\n",
    "For ages 10 to 86, the rate would be as given in the <code>lefthandedbyage</code> dataset. \n",
    "\n",
    "The required probability will then be a the corresponding rate for the age divied by 100 (since rate is given in %)."
   ]
  },
  {
   "cell_type": "code",
   "execution_count": 22,
   "id": "47cee3e9",
   "metadata": {},
   "outputs": [],
   "source": [
    "def P_LH_A(ages_of_death):\n",
    "    \n",
    "    # use the mean of the 5 neighbouring points for rates before and after the start \n",
    "    rate_before = lefthandedbyage['Average'][-5:].mean()\n",
    "    rate_after = lefthandedbyage['Average'][:5].mean()\n",
    "    rate_middle = lefthandedbyage.loc[lefthandedbyage['Age'].isin(ages_of_death)]['Average']\n",
    "    \n",
    "    youngest_age = 10 # the youngest age in the dataset is 10\n",
    "    oldest_age = 86 # the oldest age in the dataset is 86\n",
    "    \n",
    "    P = np.zeros(ages_of_death.shape)\n",
    "    \n",
    "    # extract rate of left-handedness for people of age age_of_death\n",
    "    P[ages_of_death > oldest_age] = rate_before / 100\n",
    "    P[ages_of_death < youngest_age] = rate_after / 100\n",
    "    P[np.logical_and((ages_of_death <= oldest_age), (ages_of_death >= youngest_age))] = rate_middle / 100\n",
    " \n",
    "    return P"
   ]
  },
  {
   "cell_type": "markdown",
   "id": "7cf71226",
   "metadata": {},
   "source": [
    "### 5. Overall probability of the person who died at X age to be left-handed - P(LH)"
   ]
  },
  {
   "cell_type": "markdown",
   "id": "a99738f3",
   "metadata": {},
   "source": [
    "P(LH) is the probability that a person who died in is left-handed, assuming we know nothing else about them. This is the average left-handedness in the population of deceased people.\n",
    "\n",
    "We can calculate it by summing up all of the left-handedness probabilities for each age, weighted with the number of deceased people at each age, then divided by the total number of deceased people to get a probability. In equation form:\n",
    "<p><img src=\"https://i.imgur.com/gBIWykY.png\" alt=\"equation\" width=\"220\"></p>\n",
    "where N(A) is the number of people who died at age A (given by the dataframe <code>deathbyage</code>)\n",
    "<!--- $$P(LH) = \\frac{\\sum_{\\text{A}} P(LH | A) N(A)}{\\sum_{\\text{A}} N(A)}$$ -->"
   ]
  },
  {
   "cell_type": "markdown",
   "id": "bc180acf",
   "metadata": {},
   "source": [
    "Function P_LH() calculates the overall probability of left-handedness in the population for a given study year.\n",
    "\n",
    "Create a series by multiplying the number of dead people in the Deaths column with the probability of their being lefthanded using P_LH_A(). Get the summation of this for all ages. Finally, divide this by the total number of dead people."
   ]
  },
  {
   "cell_type": "code",
   "execution_count": 23,
   "id": "0ea8f949",
   "metadata": {},
   "outputs": [
    {
     "name": "stdout",
     "output_type": "stream",
     "text": [
      "0.07372719793896641\n"
     ]
    }
   ],
   "source": [
    "def P_LH(deathbyage): \n",
    "    \n",
    "    # sum over P_LH for each age\n",
    "    p_list = P_LH_A(deathbyage['Age'])*deathbyage['Deaths']\n",
    "    P = np.sum(p_list)\n",
    "    P = P/np.sum(deathbyage['Deaths'])\n",
    "    return P \n",
    "\n",
    "print(P_LH(deathbyage))"
   ]
  },
  {
   "cell_type": "markdown",
   "id": "7146b7af",
   "metadata": {},
   "source": [
    "### 6. Calcuting the main probability in question - P(A | LH)"
   ]
  },
  {
   "cell_type": "markdown",
   "id": "565ffceb",
   "metadata": {},
   "source": [
    "Now I can use all three quantities: P(A), P(LH), and P(LH | A) using Bayes' Rule to get P(A | LH), the probability of being age A at death given that you are left-handed. \n",
    "\n",
    "To make this answer meaningful, though, I also want to compare it to P(A | RH), the probability of being age A at death given that you're right-handed.\n",
    "\n",
    "For left-handers:"
   ]
  },
  {
   "cell_type": "code",
   "execution_count": 24,
   "id": "f0be15b3",
   "metadata": {},
   "outputs": [],
   "source": [
    "def P_A_LH(ages_of_death, deathbyage):\n",
    "    \n",
    "    P_A = deathbyage['Deaths'][ages_of_death] / np.sum(deathbyage['Deaths'])\n",
    "    P_Left = P_LH(deathbyage)\n",
    "    P_Left_Age = P_LH_A(ages_of_death)\n",
    "\n",
    "    return P_Left_Age*P_A/P_Left"
   ]
  },
  {
   "cell_type": "markdown",
   "id": "e69cf30b",
   "metadata": {},
   "source": [
    "For right handers:\n",
    "\n",
    "Overall probability of right-handedness P(RH) can be calcuated as 1-P(LH). Probability of being right-handed given that you died at age A, P(RH | A) is equal to 1-P(LH | A)"
   ]
  },
  {
   "cell_type": "code",
   "execution_count": 25,
   "id": "484eb85e",
   "metadata": {},
   "outputs": [],
   "source": [
    "def P_A_RH(ages_of_death, deathbyage):\n",
    "    \n",
    "    P_A = deathbyage['Deaths'][ages_of_death] / np.sum(deathbyage['Deaths'])\n",
    "    P_RH = 1 - P_LH(deathbyage)\n",
    "    P_RH_A = 1 - P_LH_A(ages_of_death)\n",
    "    \n",
    "    return P_RH_A*P_A/P_RH"
   ]
  },
  {
   "cell_type": "markdown",
   "id": "2e143836",
   "metadata": {},
   "source": [
    "### 7. Find the concerned probabilities for all ages, for both left and right handedness"
   ]
  },
  {
   "cell_type": "code",
   "execution_count": 26,
   "id": "2b5bdb42",
   "metadata": {},
   "outputs": [],
   "source": [
    "ages = deathbyage.Age # make a list of ages of death to plot\n",
    "\n",
    "# for each age, calculate the probability of being left or right-handed\n",
    "left_handed_probability = P_A_LH(ages, deathbyage)\n",
    "right_handed_probability = P_A_RH(ages, deathbyage)"
   ]
  },
  {
   "cell_type": "markdown",
   "id": "d428fad5",
   "metadata": {},
   "source": [
    "Plotting the distributions of conditional probabilities"
   ]
  },
  {
   "cell_type": "code",
   "execution_count": 27,
   "id": "31bdf577",
   "metadata": {},
   "outputs": [
    {
     "data": {
      "text/plain": [
       "Text(0, 0.5, 'Probability of being age A at death')"
      ]
     },
     "execution_count": 27,
     "metadata": {},
     "output_type": "execute_result"
    },
    {
     "data": {
      "image/png": "[encoded data removed]",
      "text/plain": [
       "<Figure size 432x288 with 1 Axes>"
      ]
     },
     "metadata": {
      "needs_background": "light"
     },
     "output_type": "display_data"
    }
   ],
   "source": [
    "fig, ax = plt.subplots() # create figure and axis objects\n",
    "ax.plot(ages, left_handed_probability, label = \"Left-handed\")\n",
    "ax.plot(ages, right_handed_probability, label = \"Right-handed\")\n",
    "ax.legend()\n",
    "ax.set_xlabel(\"Age at death\")\n",
    "ax.set_ylabel(\"Probability of being age A at death\")"
   ]
  },
  {
   "cell_type": "markdown",
   "id": "ca71ec64",
   "metadata": {},
   "source": [
    "### 8. Conclusion to the question"
   ]
  },
  {
   "cell_type": "markdown",
   "id": "a256da6c",
   "metadata": {},
   "source": [
    "Finally we find the average age of a left-hander and a right-hander. We can do this by calculating the mean of these probability distributions in the same way I calculated P(LH) earlier, weighting the probability distribution by age and summing over the result.\n",
    "<p>$$\\text{Average age of left-handed people at death} = \\sum_A A P(A | LH)$$</p>\n",
    "<p>$$\\text{Average age of right-handed people at death} = \\sum_A A P(A | RH)$$</p>"
   ]
  },
  {
   "cell_type": "code",
   "execution_count": 28,
   "id": "a38ce7d4",
   "metadata": {},
   "outputs": [
    {
     "name": "stdout",
     "output_type": "stream",
     "text": [
      "68.78488628316178\n",
      "73.57654302270602\n"
     ]
    }
   ],
   "source": [
    "# calculating average ages for left-handed and right-handed groups\n",
    "average_lh_age =  np.nansum(ages*np.array(left_handed_probability))\n",
    "average_rh_age =  np.nansum(ages*np.array(right_handed_probability))\n",
    "\n",
    "print(average_lh_age)\n",
    "print(average_rh_age)"
   ]
  },
  {
   "cell_type": "code",
   "execution_count": 29,
   "id": "478a59bc",
   "metadata": {},
   "outputs": [
    {
     "name": "stdout",
     "output_type": "stream",
     "text": [
      "The difference in average ages is 4.8 years.\n"
     ]
    }
   ],
   "source": [
    "print(\"The difference in average ages is \" + str(round(average_rh_age - average_lh_age, 1)) + \" years.\")"
   ]
  },
  {
   "cell_type": "markdown",
   "id": "3bbb8ac1",
   "metadata": {},
   "source": [
    "### The difference in average death age of left and right handers is 4.8 years. Meaning, left-handed people seem to die 4.8 years younger than right-handed people as per the given datasets of the 1990s"
   ]
  },
  {
   "cell_type": "markdown",
   "id": "ee191257",
   "metadata": {},
   "source": [
    "We got a pretty big age gap between left-handed and right-handed people purely as a result of the changing rates of left-handedness in the population. However, the reported rates of left-handedness have increased from just 3% in the early 1900s to about 12-14% today, which means that older people are much more likely to be reported as right-handed than left-handed, and so looking at a sample of recently deceased people will have more old right-handers. Therefore, if we do the same analysis on a newer dataset of lefthandedness, the result would be an even lesser gap between the average death ages."
   ]
  },
  {
   "cell_type": "code",
   "execution_count": null,
   "id": "054b01dc",
   "metadata": {},
   "outputs": [],
   "source": []
  }
 ],
 "metadata": {
  "kernelspec": {
   "display_name": "Python 3",
   "language": "python",
   "name": "python3"
  },
  "language_info": {
   "codemirror_mode": {
    "name": "ipython",
    "version": 3
   },
   "file_extension": ".py",
   "mimetype": "text/x-python",
   "name": "python",
   "nbconvert_exporter": "python",
   "pygments_lexer": "ipython3",
   "version": "3.8.8"
  }
 },
 "nbformat": 4,
 "nbformat_minor": 5
}
